{
 "cells": [
  {
   "cell_type": "code",
   "execution_count": 11,
   "metadata": {},
   "outputs": [],
   "source": [
    "import torch\n",
    "import torch.nn.functional as F\n",
    "from torch import nn\n",
    "import torchvision\n",
    "import tqdm\n",
    "import numpy\n",
    "import matplotlib.pyplot as plt\n",
    "from torchvision.transforms import v2\n"
   ]
  },
  {
   "cell_type": "code",
   "execution_count": 3,
   "metadata": {},
   "outputs": [],
   "source": [
    "from torchvision.transforms import ToTensor"
   ]
  },
  {
   "cell_type": "markdown",
   "metadata": {},
   "source": [
    "### Q7"
   ]
  },
  {
   "cell_type": "code",
   "execution_count": 4,
   "metadata": {},
   "outputs": [],
   "source": [
    "data_root = 'data'\n",
    "batch_size = 16"
   ]
  },
  {
   "cell_type": "code",
   "execution_count": 5,
   "metadata": {},
   "outputs": [],
   "source": [
    "device = torch.device(\"cuda:0\" if torch.cuda.is_available() else \"cpu\")"
   ]
  },
  {
   "cell_type": "code",
   "execution_count": 6,
   "metadata": {},
   "outputs": [
    {
     "name": "stdout",
     "output_type": "stream",
     "text": [
      "Using device cuda:0\n"
     ]
    }
   ],
   "source": [
    "print(f\"Using device {device}\")"
   ]
  },
  {
   "cell_type": "code",
   "execution_count": 55,
   "metadata": {},
   "outputs": [],
   "source": [
    "train = torchvision.datasets.MNIST(root=data_root, train=True,\\\n",
    "download=True, transform=ToTensor())\n",
    "trainloader = torch.utils.data.DataLoader(train, batch_size=batch_size,\\\n",
    "shuffle=True, num_workers=2)\n",
    "\n",
    "test = torchvision.datasets.MNIST(root=data_root, train=False,\\\n",
    "download=True, transform=ToTensor())\n",
    "testloader = torch.utils.data.DataLoader(test, batch_size=batch_size,\\\n",
    "shuffle=True, num_workers=2)"
   ]
  },
  {
   "cell_type": "code",
   "execution_count": 7,
   "metadata": {},
   "outputs": [
    {
     "data": {
      "text/plain": [
       "(3750, 625)"
      ]
     },
     "execution_count": 7,
     "metadata": {},
     "output_type": "execute_result"
    }
   ],
   "source": [
    "len(trainloader), len(testloader)"
   ]
  },
  {
   "cell_type": "code",
   "execution_count": 79,
   "metadata": {},
   "outputs": [],
   "source": [
    "train_data = []\n",
    "train_labels = []\n",
    "\n",
    "for data, labels in trainloader:\n",
    "    train_data.append(data)\n",
    "    train_labels.append(labels)\n",
    "    \n",
    "train_data = torch.cat(train_data)\n",
    "train_labels = torch.cat(train_labels)\n",
    "    \n",
    "\n",
    "test_data = []\n",
    "test_labels = []\n",
    "for data, labels in testloader:\n",
    "    test_data.append(data)\n",
    "    test_labels.append(labels)\n",
    "\n",
    "test_data = torch.cat(test_data)\n",
    "test_labels = torch.cat(test_labels)\n",
    "\n",
    "train_data, val_data = train_data[:50000], train_data[50000:]\n",
    "train_labels, val_labels = train_labels[:50000], train_labels[50000:]"
   ]
  },
  {
   "cell_type": "code",
   "execution_count": 80,
   "metadata": {},
   "outputs": [
    {
     "data": {
      "text/plain": [
       "(50000, 10000)"
      ]
     },
     "execution_count": 80,
     "metadata": {},
     "output_type": "execute_result"
    }
   ],
   "source": [
    "len(train_data), len(val_data)"
   ]
  },
  {
   "cell_type": "code",
   "execution_count": 81,
   "metadata": {},
   "outputs": [],
   "source": [
    "import numpy as np"
   ]
  },
  {
   "cell_type": "code",
   "execution_count": 82,
   "metadata": {},
   "outputs": [
    {
     "data": {
      "text/plain": [
       "(array([0.09822, 0.113  , 0.09858, 0.10226, 0.0972 , 0.09004, 0.09902,\n",
       "        0.10404, 0.09858, 0.09906]),\n",
       " array([0.1012, 0.1092, 0.1029, 0.1018, 0.0982, 0.0919, 0.0967, 0.1063,\n",
       "        0.0922, 0.0996]))"
      ]
     },
     "execution_count": 82,
     "metadata": {},
     "output_type": "execute_result"
    }
   ],
   "source": [
    "np.bincount(train_labels.numpy()) / len(train_labels), np.bincount(val_labels.numpy()) / len(val_labels)"
   ]
  },
  {
   "cell_type": "code",
   "execution_count": 83,
   "metadata": {},
   "outputs": [],
   "source": [
    "import torch.nn.functional as F"
   ]
  },
  {
   "cell_type": "code",
   "execution_count": 104,
   "metadata": {},
   "outputs": [],
   "source": [
    "class Model(nn.Module):\n",
    "    def __init__(self):\n",
    "        super().__init__()\n",
    "        self.conv1 = nn.Conv2d(in_channels=1, out_channels=16, kernel_size=(3,3), padding=1)\n",
    "        self.pool1 = nn.MaxPool2d(2, 2)\n",
    "        self.conv2 = nn.Conv2d(16, 32, kernel_size=(3,3), padding=1)\n",
    "        self.pool2 = nn.MaxPool2d(2, 2)\n",
    "        self.conv3 = nn.Conv2d(32, 64, kernel_size=(3,3), padding=1)\n",
    "        self.pool3 = nn.MaxPool2d(2, 2)\n",
    "        self.fc1 = nn.Linear(64 * 3 * 3, 10)\n",
    "        \n",
    "    def forward(self, x):\n",
    "        x = self.pool1(F.relu(self.conv1(x)))\n",
    "        x = self.pool2(F.relu(self.conv2(x)))\n",
    "        x = self.pool3(F.relu(self.conv3(x)))\n",
    "        x = torch.flatten(x, 1)\n",
    "        x = self.fc1(x)\n",
    "        return x\n",
    "    "
   ]
  },
  {
   "cell_type": "code",
   "execution_count": 136,
   "metadata": {},
   "outputs": [],
   "source": [
    "model = Model()\n",
    "model.to(device)\n",
    "# optimizer = torch.optim.Adam(model.parameters(), lr=0.001)\n",
    "optimizer = torch.optim.SGD(model.parameters(), lr=0.001, momentum=0.9)\n",
    "criterion = nn.CrossEntropyLoss()"
   ]
  },
  {
   "cell_type": "code",
   "execution_count": 137,
   "metadata": {},
   "outputs": [],
   "source": [
    "import tqdm"
   ]
  },
  {
   "cell_type": "code",
   "execution_count": 138,
   "metadata": {},
   "outputs": [
    {
     "data": {
      "text/plain": [
       "tensor(1.0019)"
      ]
     },
     "execution_count": 138,
     "metadata": {},
     "output_type": "execute_result"
    }
   ],
   "source": [
    "criterion(torch.tensor([[0.1, 0.2, 0.3]]), torch.tensor([2]))"
   ]
  },
  {
   "cell_type": "code",
   "execution_count": 139,
   "metadata": {},
   "outputs": [
    {
     "data": {
      "text/plain": [
       "Model(\n",
       "  (conv1): Conv2d(1, 16, kernel_size=(3, 3), stride=(1, 1), padding=(1, 1))\n",
       "  (pool1): MaxPool2d(kernel_size=2, stride=2, padding=0, dilation=1, ceil_mode=False)\n",
       "  (conv2): Conv2d(16, 32, kernel_size=(3, 3), stride=(1, 1), padding=(1, 1))\n",
       "  (pool2): MaxPool2d(kernel_size=2, stride=2, padding=0, dilation=1, ceil_mode=False)\n",
       "  (conv3): Conv2d(32, 64, kernel_size=(3, 3), stride=(1, 1), padding=(1, 1))\n",
       "  (pool3): MaxPool2d(kernel_size=2, stride=2, padding=0, dilation=1, ceil_mode=False)\n",
       "  (fc1): Linear(in_features=576, out_features=10, bias=True)\n",
       ")"
      ]
     },
     "execution_count": 139,
     "metadata": {},
     "output_type": "execute_result"
    }
   ],
   "source": [
    "model.train()"
   ]
  },
  {
   "cell_type": "code",
   "execution_count": 140,
   "metadata": {},
   "outputs": [
    {
     "name": "stderr",
     "output_type": "stream",
     "text": [
      "loss: 0.0153: 100%|██████████| 3125/3125 [00:08<00:00, 360.93it/s]\n",
      "loss: 0.0032: 100%|██████████| 3125/3125 [00:07<00:00, 445.16it/s]\n",
      "loss: 0.0021: 100%|██████████| 3125/3125 [00:07<00:00, 439.14it/s]\n",
      "loss: 0.0016: 100%|██████████| 3125/3125 [00:07<00:00, 415.40it/s]\n",
      "loss: 0.0011: 100%|██████████| 3125/3125 [00:07<00:00, 428.30it/s]\n",
      "loss: 0.0008: 100%|██████████| 3125/3125 [00:08<00:00, 375.37it/s]\n",
      "100%|██████████| 6/6 [00:49<00:00,  8.23s/it]\n"
     ]
    }
   ],
   "source": [
    "history = {\n",
    "    \"train_loss\": [],\n",
    "    \"val_loss\": [],\n",
    "    \"train_acc\": [],\n",
    "    \"val_acc\": []\n",
    "}\n",
    "for epoch in tqdm.tqdm(range(6), leave=True):\n",
    "    avg_loss = 0\n",
    "    pbar = tqdm.tqdm(range(0, len(train_data), batch_size), position=0)\n",
    "    for bn in pbar:\n",
    "        data = train_data[bn:bn+batch_size].to(device)\n",
    "        labels = train_labels[bn:bn+batch_size].to(device)\n",
    "        \n",
    "        optimizer.zero_grad()\n",
    "        \n",
    "        outputs = model(data)\n",
    "        \n",
    "        loss = criterion(outputs, labels)\n",
    "        \n",
    "        if bn % 300 == 0:\n",
    "            pbar.set_description(f\"loss: {loss.item():.4f}\")\n",
    "        \n",
    "        loss.backward()\n",
    "        \n",
    "        optimizer.step()\n",
    "        \n",
    "        avg_loss += loss.item()\n",
    "    history[\"train_loss\"].append(avg_loss / len(train_data))\n",
    "    \n",
    "    with torch.no_grad():\n",
    "        avg_loss = 0\n",
    "        correct = 0\n",
    "        for bn in range(0, len(val_data), batch_size):\n",
    "            data = val_data[bn:bn+batch_size].to(device)\n",
    "            labels = val_labels[bn:bn+batch_size].to(device)\n",
    "            \n",
    "            outputs = model(data)\n",
    "            \n",
    "            loss = criterion(outputs, labels)\n",
    "            \n",
    "            avg_loss += loss.item()\n",
    "            \n",
    "            correct += (torch.argmax(outputs, dim=1) == labels).sum().item()\n",
    "        history[\"val_acc\"].append(correct / len(val_data))\n",
    "        history[\"val_loss\"].append(avg_loss / len(val_data))\n",
    "    \n",
    "        \n",
    "        "
   ]
  },
  {
   "cell_type": "code",
   "execution_count": 141,
   "metadata": {},
   "outputs": [
    {
     "name": "stdout",
     "output_type": "stream",
     "text": [
      "Train accuracy: 0.98914\n"
     ]
    }
   ],
   "source": [
    "# get train accuracy\n",
    "with torch.no_grad():\n",
    "    correct = 0\n",
    "    for bn in range(0, len(train_data), batch_size):\n",
    "        data = train_data[bn:bn+batch_size].to(device)\n",
    "        labels = train_labels[bn:bn+batch_size].to(device)\n",
    "\n",
    "        outputs = model(data)\n",
    "\n",
    "        correct += (torch.argmax(outputs, dim=1) == labels).sum().item()\n",
    "print(f\"Train accuracy: {correct / len(train_data)}\")"
   ]
  },
  {
   "cell_type": "code",
   "execution_count": 142,
   "metadata": {},
   "outputs": [
    {
     "name": "stdout",
     "output_type": "stream",
     "text": [
      "Val accuracy: 0.9878999590873718\n"
     ]
    }
   ],
   "source": [
    "# get val accuracy\n",
    "with torch.no_grad():\n",
    "    val_outputs = model(val_data.to(device))\n",
    "    val_loss = criterion(val_outputs, val_labels.to(device))\n",
    "    val_preds = torch.argmax(val_outputs, dim=1)\n",
    "    val_acc = (val_preds == val_labels.to(device)).float().mean()\n",
    "    print(f\"Val accuracy: {val_acc.item()}\")"
   ]
  },
  {
   "cell_type": "code",
   "execution_count": 143,
   "metadata": {},
   "outputs": [
    {
     "name": "stdout",
     "output_type": "stream",
     "text": [
      "Test accuracy: 0.9872999787330627\n"
     ]
    }
   ],
   "source": [
    "#eval on test \n",
    "with torch.no_grad():\n",
    "    test_outputs = model(test_data.to(device))\n",
    "    test_loss = criterion(test_outputs, test_labels.to(device))\n",
    "    test_preds = torch.argmax(test_outputs, dim=1)\n",
    "    test_acc = (test_preds == test_labels.to(device)).float().mean()\n",
    "    print(f\"Test accuracy: {test_acc.item()}\")"
   ]
  },
  {
   "cell_type": "code",
   "execution_count": 125,
   "metadata": {},
   "outputs": [],
   "source": [
    "import matplotlib.pyplot as plt"
   ]
  },
  {
   "cell_type": "code",
   "execution_count": 126,
   "metadata": {},
   "outputs": [
    {
     "data": {
      "text/plain": [
       "Text(0.5, 0, 'Epoch')"
      ]
     },
     "execution_count": 126,
     "metadata": {},
     "output_type": "execute_result"
    },
    {
     "data": {
      "image/png": "[encoded data removed]",
      "text/plain": [
       "<Figure size 1200x600 with 2 Axes>"
      ]
     },
     "metadata": {},
     "output_type": "display_data"
    }
   ],
   "source": [
    "plt.figure(figsize=(12, 6))\n",
    "plt.subplot(1, 2, 1)\n",
    "plt.plot(range(1, len(history[\"train_loss\"])+1), history[\"train_loss\"], label=\"train loss\")\n",
    "plt.plot(range(1, len(history[\"train_loss\"])+1), history[\"val_loss\"], label=\"val loss\")\n",
    "plt.title(\"Loss\")\n",
    "plt.xlabel(\"Epoch\")\n",
    "plt.legend(loc=\"upper right\")\n",
    "plt.subplot(1, 2, 2)\n",
    "# plt.plot(range(1, len(history)+1), history[\"train_acc\"], label=\"train acc\")\n",
    "plt.plot(range(1, len(history[\"train_loss\"])+1), history[\"val_acc\"], label=\"val acc\")\n",
    "plt.legend()\n",
    "plt.xlabel(\"Epoch\")"
   ]
  },
  {
   "cell_type": "markdown",
   "metadata": {},
   "source": [
    "### Q8"
   ]
  },
  {
   "cell_type": "code",
   "execution_count": 129,
   "metadata": {},
   "outputs": [],
   "source": [
    "transforms = v2.Compose([\n",
    "    v2.RandomResizedCrop(28, scale=(0.8, 1.0), antialias=False),\n",
    "    v2.RandomRotation(10),\n",
    "])"
   ]
  },
  {
   "cell_type": "code",
   "execution_count": 130,
   "metadata": {},
   "outputs": [],
   "source": [
    "model = Model()\n",
    "model.to(device)\n",
    "optimizer = torch.optim.Adam(model.parameters(), lr=0.001)\n",
    "criterion = nn.CrossEntropyLoss()"
   ]
  },
  {
   "cell_type": "code",
   "execution_count": 131,
   "metadata": {},
   "outputs": [
    {
     "name": "stderr",
     "output_type": "stream",
     "text": [
      "  0%|          | 0/3125 [00:00<?, ?it/s]/home/am/miniconda3/envs/vudl/lib/python3.9/site-packages/torchvision/transforms/functional.py:1603: UserWarning: The default value of the antialias parameter of all the resizing transforms (Resize(), RandomResizedCrop(), etc.) will change from None to True in v0.17, in order to be consistent across the PIL and Tensor backends. To suppress this warning, directly pass antialias=True (recommended, future default), antialias=None (current default, which means False for Tensors and True for PIL), or antialias=False (only works on Tensors - PIL will still use antialiasing). This also applies if you are using the inference transforms from the models weights: update the call to weights.transforms(antialias=True).\n",
      "  warnings.warn(\n",
      "loss: 0.0467: 100%|██████████| 3125/3125 [00:16<00:00, 187.99it/s]\n",
      "loss: 0.0025: 100%|██████████| 3125/3125 [00:15<00:00, 197.12it/s]\n",
      "loss: 0.0034: 100%|██████████| 3125/3125 [00:16<00:00, 192.10it/s]\n",
      "loss: 0.0012: 100%|██████████| 3125/3125 [00:16<00:00, 189.05it/s]\n",
      "loss: 0.0009: 100%|██████████| 3125/3125 [00:14<00:00, 210.70it/s]\n",
      "loss: 0.0176: 100%|██████████| 3125/3125 [00:14<00:00, 211.51it/s]\n",
      "100%|██████████| 6/6 [01:39<00:00, 16.56s/it]\n"
     ]
    }
   ],
   "source": [
    "history = {\n",
    "    \"train_loss\": [],\n",
    "    \"val_loss\": [],\n",
    "    \"train_acc\": [],\n",
    "    \"val_acc\": []\n",
    "}\n",
    "for epoch in tqdm.tqdm(range(6), leave=True):\n",
    "    avg_loss = 0\n",
    "    pbar = tqdm.tqdm(range(0, len(train_data), batch_size), position=0)\n",
    "    for bn in pbar:\n",
    "        data = transforms(train_data[bn:bn+batch_size].to(device))\n",
    "        labels = train_labels[bn:bn+batch_size].to(device)\n",
    "        \n",
    "        optimizer.zero_grad()\n",
    "        \n",
    "        outputs = model(data)\n",
    "        \n",
    "        loss = criterion(outputs, labels)\n",
    "        \n",
    "        if bn % 300 == 0:\n",
    "            pbar.set_description(f\"loss: {loss.item():.4f}\")\n",
    "        \n",
    "        loss.backward()\n",
    "        \n",
    "        optimizer.step()\n",
    "        \n",
    "        avg_loss += loss.item()\n",
    "    history[\"train_loss\"].append(avg_loss / len(train_data))\n",
    "    \n",
    "    with torch.no_grad():\n",
    "        avg_loss = 0\n",
    "        correct = 0\n",
    "        for bn in range(0, len(val_data), batch_size):\n",
    "            data = val_data[bn:bn+batch_size].to(device)\n",
    "            labels = val_labels[bn:bn+batch_size].to(device)\n",
    "            \n",
    "            outputs = model(data)\n",
    "            \n",
    "            loss = criterion(outputs, labels)\n",
    "            \n",
    "            avg_loss += loss.item()\n",
    "            \n",
    "            correct += (torch.argmax(outputs, dim=1) == labels).sum().item()\n",
    "        history[\"val_acc\"].append(correct / len(val_data))\n",
    "        history[\"val_loss\"].append(avg_loss / len(val_data))"
   ]
  },
  {
   "cell_type": "code",
   "execution_count": 132,
   "metadata": {},
   "outputs": [
    {
     "name": "stdout",
     "output_type": "stream",
     "text": [
      "Train accuracy: 0.99152\n"
     ]
    }
   ],
   "source": [
    "# get train accuracy\n",
    "with torch.no_grad():\n",
    "    correct = 0\n",
    "    for bn in range(0, len(train_data), batch_size):\n",
    "        data = train_data[bn:bn+batch_size].to(device)\n",
    "        labels = train_labels[bn:bn+batch_size].to(device)\n",
    "\n",
    "        outputs = model(data)\n",
    "\n",
    "        correct += (torch.argmax(outputs, dim=1) == labels).sum().item()\n",
    "print(f\"Train accuracy: {correct / len(train_data)}\")"
   ]
  },
  {
   "cell_type": "code",
   "execution_count": 133,
   "metadata": {},
   "outputs": [
    {
     "name": "stdout",
     "output_type": "stream",
     "text": [
      "Val accuracy: 0.9899999499320984\n"
     ]
    }
   ],
   "source": [
    "# get val accuracy\n",
    "with torch.no_grad():\n",
    "    val_outputs = model(val_data.to(device))\n",
    "    val_loss = criterion(val_outputs, val_labels.to(device))\n",
    "    val_preds = torch.argmax(val_outputs, dim=1)\n",
    "    val_acc = (val_preds == val_labels.to(device)).float().mean()\n",
    "    print(f\"Val accuracy: {val_acc.item()}\")"
   ]
  },
  {
   "cell_type": "code",
   "execution_count": 134,
   "metadata": {},
   "outputs": [
    {
     "data": {
      "text/plain": [
       "Text(0.5, 0, 'Epoch')"
      ]
     },
     "execution_count": 134,
     "metadata": {},
     "output_type": "execute_result"
    },
    {
     "data": {
      "image/png": "[encoded data removed]",
      "text/plain": [
       "<Figure size 1200x600 with 2 Axes>"
      ]
     },
     "metadata": {},
     "output_type": "display_data"
    }
   ],
   "source": [
    "plt.figure(figsize=(12, 6))\n",
    "plt.subplot(1, 2, 1)\n",
    "plt.plot(range(1, len(history[\"train_loss\"])+1), history[\"train_loss\"], label=\"train loss\")\n",
    "plt.plot(range(1, len(history[\"train_loss\"])+1), history[\"val_loss\"], label=\"val loss\")\n",
    "plt.title(\"Loss\")\n",
    "plt.xlabel(\"Epoch\")\n",
    "plt.legend(loc=\"upper right\")\n",
    "plt.subplot(1, 2, 2)\n",
    "# plt.plot(range(1, len(history)+1), history[\"train_acc\"], label=\"train acc\")\n",
    "plt.plot(range(1, len(history[\"train_loss\"])+1), history[\"val_acc\"], label=\"val acc\")\n",
    "plt.legend()\n",
    "plt.xlabel(\"Epoch\")"
   ]
  },
  {
   "cell_type": "code",
   "execution_count": 135,
   "metadata": {},
   "outputs": [
    {
     "name": "stdout",
     "output_type": "stream",
     "text": [
      "Test accuracy: 0.9896000027656555\n"
     ]
    }
   ],
   "source": [
    "# eavluating on test set\n",
    "with torch.no_grad():\n",
    "    test_outputs = model(test_data.to(device))\n",
    "    test_loss = criterion(test_outputs, test_labels.to(device))\n",
    "    test_preds = torch.argmax(test_outputs, dim=1)\n",
    "    test_acc = (test_preds == test_labels.to(device)).float().mean()\n",
    "    print(f\"Test accuracy: {test_acc.item()}\")"
   ]
  },
  {
   "cell_type": "markdown",
   "metadata": {},
   "source": [
    "### Q 12"
   ]
  },
  {
   "cell_type": "code",
   "execution_count": 144,
   "metadata": {},
   "outputs": [
    {
     "name": "stdout",
     "output_type": "stream",
     "text": [
      "--2023-12-09 23:43:46--  https://dlvu.github.io/data/mnist-varres.tgz\n",
      "Resolving dlvu.github.io (dlvu.github.io)... 185.199.110.153, 185.199.111.153, 185.199.109.153, ...\n",
      "Connecting to dlvu.github.io (dlvu.github.io)|185.199.110.153|:443... connected.\n",
      "HTTP request sent, awaiting response... 200 OK\n",
      "Length: 17536487 (17M) [application/octet-stream]\n",
      "Saving to: ‘mnist-varres.tgz’\n",
      "\n",
      "mnist-varres.tgz    100%[===================>]  16.72M  10.9MB/s    in 1.5s    \n",
      "\n",
      "2023-12-09 23:43:51 (10.9 MB/s) - ‘mnist-varres.tgz’ saved [17536487/17536487]\n",
      "\n"
     ]
    }
   ],
   "source": [
    "!wget https://dlvu.github.io/data/mnist-varres.tgz"
   ]
  },
  {
   "cell_type": "code",
   "execution_count": 146,
   "metadata": {},
   "outputs": [],
   "source": [
    "!tar -xzf mnist-varres.tgz"
   ]
  },
  {
   "cell_type": "code",
   "execution_count": 149,
   "metadata": {},
   "outputs": [
    {
     "name": "stderr",
     "output_type": "stream",
     "text": [
      "/home/am/miniconda3/envs/vudl/lib/python3.9/site-packages/torchvision/transforms/v2/_deprecated.py:43: UserWarning: The transform `ToTensor()` is deprecated and will be removed in a future release. Instead, please use `v2.Compose([v2.ToImage(), v2.ToDtype(torch.float32, scale=True)])`.\n",
      "  warnings.warn(\n"
     ]
    }
   ],
   "source": [
    "transforms = v2.Compose([\n",
    "    v2.Resize((28, 28)),\n",
    "    v2.ToTensor(),\n",
    "    # drop channels 2 and 3\n",
    "    v2.Lambda(lambda x: x[0:1]),\n",
    "])"
   ]
  },
  {
   "cell_type": "code",
   "execution_count": 150,
   "metadata": {},
   "outputs": [],
   "source": [
    "trainloader = torchvision.datasets.ImageFolder(\"mnist-varres/train\", transform=transforms)\n",
    "testloader = torchvision.datasets.ImageFolder(\"mnist-varres/test\", transform=transforms)"
   ]
  },
  {
   "cell_type": "code",
   "execution_count": 151,
   "metadata": {},
   "outputs": [],
   "source": [
    "# split into train and val \n",
    "train_data, val_data = torch.utils.data.random_split(trainloader, [50000, 10000])"
   ]
  },
  {
   "cell_type": "code",
   "execution_count": 152,
   "metadata": {},
   "outputs": [
    {
     "data": {
      "text/plain": [
       "<torch.utils.data.dataset.Subset at 0x7f4e711ec4f0>"
      ]
     },
     "execution_count": 152,
     "metadata": {},
     "output_type": "execute_result"
    }
   ],
   "source": [
    "train_data"
   ]
  },
  {
   "cell_type": "code",
   "execution_count": 153,
   "metadata": {},
   "outputs": [
    {
     "data": {
      "image/png": "[encoded data removed]",
      "text/plain": [
       "<Figure size 400x400 with 4 Axes>"
      ]
     },
     "metadata": {},
     "output_type": "display_data"
    }
   ],
   "source": [
    "# visualize 4 images\n",
    "plt.figure(figsize=(4, 4))\n",
    "for i in range(4):\n",
    "    plt.subplot(2, 2, i+1)\n",
    "    plt.imshow(train_data[i][0][0], cmap=\"gray\")\n",
    "    plt.title(train_data[i][1])\n",
    "    plt.axis(\"off\")"
   ]
  },
  {
   "cell_type": "code",
   "execution_count": 154,
   "metadata": {},
   "outputs": [],
   "source": [
    "model = Model()\n",
    "model.to(device)\n",
    "optimizer = torch.optim.Adam(model.parameters(), lr=0.001)\n",
    "criterion = nn.CrossEntropyLoss()"
   ]
  },
  {
   "cell_type": "code",
   "execution_count": 155,
   "metadata": {},
   "outputs": [],
   "source": [
    "# get batch out of train_data\n",
    "trainloader = torch.utils.data.DataLoader(train_data, batch_size=batch_size,\\\n",
    "shuffle=True, num_workers=2)\n",
    "valloader = torch.utils.data.DataLoader(val_data, batch_size=batch_size,\\\n",
    "shuffle=True, num_workers=2)"
   ]
  },
  {
   "cell_type": "code",
   "execution_count": 156,
   "metadata": {},
   "outputs": [
    {
     "name": "stderr",
     "output_type": "stream",
     "text": [
      "100%|██████████| 3125/3125 [00:28<00:00, 111.51it/s]\n",
      "100%|██████████| 3125/3125 [00:23<00:00, 132.54it/s]\n",
      "100%|██████████| 3125/3125 [00:23<00:00, 132.82it/s]\n",
      "100%|██████████| 3125/3125 [00:20<00:00, 152.54it/s]\n",
      "100%|██████████| 3125/3125 [00:20<00:00, 152.49it/s]\n",
      "100%|██████████| 3125/3125 [00:21<00:00, 145.99it/s]\n",
      "100%|██████████| 6/6 [02:37<00:00, 26.31s/it]\n"
     ]
    }
   ],
   "source": [
    "history = {\n",
    "    \"train_loss\": [],\n",
    "    \"val_loss\": [],\n",
    "    \"train_acc\": [],\n",
    "    \"val_acc\": []\n",
    "}\n",
    "for epoch in tqdm.tqdm(range(6), leave=True):\n",
    "    avg_loss = 0\n",
    "    pbar = tqdm.tqdm(trainloader, position=0)\n",
    "    for data, labels in pbar:\n",
    "        # data = train_data[bn:bn+batch_size][0].to(device)\n",
    "        # labels = train_data[bn:bn+batch_size][1].to(device)\n",
    "        \n",
    "        optimizer.zero_grad()\n",
    "        \n",
    "        outputs = model(data.to(device))\n",
    "        \n",
    "        loss = criterion(outputs, labels.to(device))\n",
    "        \n",
    "        # if bn % 300 == 0:\n",
    "        #     pbar.set_description(f\"loss: {loss.item():.4f}\")\n",
    "        \n",
    "        loss.backward()\n",
    "        \n",
    "        optimizer.step()\n",
    "        \n",
    "        avg_loss += loss.item()\n",
    "    history[\"train_loss\"].append(avg_loss / len(train_data))\n",
    "    \n",
    "    with torch.no_grad():\n",
    "        avg_loss = 0\n",
    "        correct = 0\n",
    "        for data, labels in valloader:\n",
    "            # data = val_data[bn:bn+batch_size][0].to(device)\n",
    "            # labels = val_data[bn:bn+batch_size][1].to(device)\n",
    "            \n",
    "            outputs = model(data.to(device))\n",
    "            labels = labels.to(device)\n",
    "            \n",
    "            loss = criterion(outputs, labels)\n",
    "            \n",
    "            avg_loss += loss.item()\n",
    "            \n",
    "            correct += (torch.argmax(outputs, dim=1) == labels).sum().item()\n",
    "            \n",
    "        history[\"val_acc\"].append(correct / len(val_data))\n",
    "        history[\"val_loss\"].append(avg_loss / len(val_data))"
   ]
  },
  {
   "cell_type": "code",
   "execution_count": 157,
   "metadata": {},
   "outputs": [],
   "source": [
    "# eval on train\n",
    "with torch.no_grad():\n",
    "    correct = 0\n",
    "    for data, labels in trainloader:\n",
    "        # data = train_data[bn:bn+batch_size][0].to(device)\n",
    "        # labels = train_data[bn:bn+batch_size][1].to(device)\n",
    "\n",
    "        outputs = model(data.to(device))\n",
    "\n",
    "        correct += (torch.argmax(outputs, dim=1) == labels.to(device)).sum().item()"
   ]
  },
  {
   "cell_type": "code",
   "execution_count": 158,
   "metadata": {},
   "outputs": [
    {
     "name": "stdout",
     "output_type": "stream",
     "text": [
      "Train accuracy: 0.9838\n"
     ]
    }
   ],
   "source": [
    "print(f\"Train accuracy: {correct / len(train_data)}\")"
   ]
  },
  {
   "cell_type": "code",
   "execution_count": 159,
   "metadata": {},
   "outputs": [],
   "source": [
    "# eval on val\n",
    "with torch.no_grad():\n",
    "    correct = 0\n",
    "    for data, labels in valloader:\n",
    "        # data = val_data[bn:bn+batch_size][0].to(device)\n",
    "        # labels = val_data[bn:bn+batch_size][1].to(device)\n",
    "\n",
    "        outputs = model(data.to(device))\n",
    "\n",
    "        correct += (torch.argmax(outputs, dim=1) == labels.to(device)).sum().item()\n",
    "        "
   ]
  },
  {
   "cell_type": "code",
   "execution_count": 160,
   "metadata": {},
   "outputs": [
    {
     "name": "stdout",
     "output_type": "stream",
     "text": [
      "Val accuracy: 0.967\n"
     ]
    }
   ],
   "source": [
    "print(f\"Val accuracy: {correct / len(val_data)}\")"
   ]
  },
  {
   "cell_type": "code",
   "execution_count": 161,
   "metadata": {},
   "outputs": [
    {
     "name": "stdout",
     "output_type": "stream",
     "text": [
      "Test accuracy: 0.9713\n"
     ]
    }
   ],
   "source": [
    "# evaluate test accuracy\n",
    "testloader = torch.utils.data.DataLoader(testloader, batch_size=batch_size,\\\n",
    "shuffle=True, num_workers=2)\n",
    "with torch.no_grad():\n",
    "    correct = 0\n",
    "    for data, labels in testloader:\n",
    "        # data = test_data[bn:bn+batch_size][0].to(device)\n",
    "        # labels = test_data[bn:bn+batch_size][1].to(device)\n",
    "\n",
    "        outputs = model(data.to(device))\n",
    "\n",
    "        correct += (torch.argmax(outputs, dim=1) == labels.to(device)).sum().item()\n",
    "        \n",
    "print(f\"Test accuracy: {correct / len(testloader.dataset)}\")"
   ]
  },
  {
   "cell_type": "code",
   "execution_count": 243,
   "metadata": {},
   "outputs": [
    {
     "data": {
      "text/plain": [
       "Text(0.5, 0, 'Epoch')"
      ]
     },
     "execution_count": 243,
     "metadata": {},
     "output_type": "execute_result"
    },
    {
     "data": {
      "image/png": "[encoded data removed]",
      "text/plain": [
       "<Figure size 1200x600 with 2 Axes>"
      ]
     },
     "metadata": {},
     "output_type": "display_data"
    }
   ],
   "source": [
    "# plot\n",
    "plt.figure(figsize=(12, 6))\n",
    "plt.subplot(1, 2, 1)\n",
    "plt.plot(range(1, len(history[\"train_loss\"])+1), history[\"train_loss\"], label=\"train loss\")\n",
    "plt.plot(range(1, len(history[\"train_loss\"])+1), history[\"val_loss\"], label=\"val loss\")\n",
    "plt.title(\"Loss\")\n",
    "plt.xlabel(\"Epoch\")\n",
    "plt.legend(loc=\"upper right\")\n",
    "plt.subplot(1, 2, 2)\n",
    "# plt.plot(range(1, len(history)+1), history[\"train_acc\"], label=\"train acc\")\n",
    "plt.plot(range(1, len(history[\"train_loss\"])+1), history[\"val_acc\"], label=\"val acc\")\n",
    "plt.legend()\n",
    "plt.xlabel(\"Epoch\")"
   ]
  },
  {
   "cell_type": "markdown",
   "metadata": {},
   "source": [
    "### Q14-17"
   ]
  },
  {
   "cell_type": "code",
   "execution_count": 140,
   "metadata": {},
   "outputs": [
    {
     "name": "stderr",
     "output_type": "stream",
     "text": [
      "/home/am/miniconda3/envs/vudl/lib/python3.9/site-packages/torchvision/transforms/v2/_deprecated.py:43: UserWarning: The transform `ToTensor()` is deprecated and will be removed in a future release. Instead, please use `v2.Compose([v2.ToImage(), v2.ToDtype(torch.float32, scale=True)])`.\n",
      "  warnings.warn(\n"
     ]
    }
   ],
   "source": [
    "transforms = v2.Compose([\n",
    "    # v2.Resize((28, 28)),\n",
    "    v2.ToTensor(),\n",
    "    # drop channels 2 and 3\n",
    "    # v2.Lambda(lambda x: x[0:1]),\n",
    "])"
   ]
  },
  {
   "cell_type": "code",
   "execution_count": 335,
   "metadata": {},
   "outputs": [],
   "source": [
    "class SpecificSizeImageFolder(torchvision.datasets.ImageFolder):\n",
    "    def __init__(self, root, transform=None, target_size=(224, 224)):\n",
    "        super().__init__(root, transform)\n",
    "        self.target_size = target_size\n",
    "        self.filtered_indices = self._filter()\n",
    "        \n",
    "    def _filter(self):\n",
    "        filtered_indices = []\n",
    "        last_dim = []\n",
    "        for i in tqdm.tqdm(range(len(self)), desc=\"Filtering\"):\n",
    "            path, _ = self.samples[i]\n",
    "            img = self.loader(path)\n",
    "            \n",
    "            if img.size[-1] == self.target_size[-1]:\n",
    "                filtered_indices.append(i)\n",
    "                \n",
    "        return filtered_indices\n",
    "    \n",
    "    def __getitem__(self, index):\n",
    "        filtered_index = self.filtered_indices[index]\n",
    "        return super().__getitem__(filtered_index)\n",
    "    \n",
    "    def __len__(self):\n",
    "        # check if has attribute filtered_indices\n",
    "        if hasattr(self, \"filtered_indices\"):\n",
    "            return len(self.filtered_indices)\n",
    "        \n",
    "        return super().__len__()"
   ]
  },
  {
   "cell_type": "code",
   "execution_count": 293,
   "metadata": {},
   "outputs": [
    {
     "name": "stderr",
     "output_type": "stream",
     "text": [
      "Filtering: 100%|██████████| 60000/60000 [00:04<00:00, 13629.46it/s]\n",
      "Filtering: 100%|██████████| 60000/60000 [00:04<00:00, 13240.37it/s]\n",
      "Filtering: 100%|██████████| 60000/60000 [00:04<00:00, 13788.31it/s]\n",
      "Filtering: 100%|██████████| 10000/10000 [00:00<00:00, 13387.96it/s]\n",
      "Filtering: 100%|██████████| 10000/10000 [00:00<00:00, 13466.11it/s]\n",
      "Filtering: 100%|██████████| 10000/10000 [00:00<00:00, 13694.42it/s]\n"
     ]
    }
   ],
   "source": [
    "trainloader32 = SpecificSizeImageFolder(\"mnist-varres/train\", transform=transforms, target_size=(32, 32))\n",
    "trainloader48 = SpecificSizeImageFolder(\"mnist-varres/train\", transform=transforms, target_size=(48, 48))\n",
    "trainloader64 = SpecificSizeImageFolder(\"mnist-varres/train\", transform=transforms, target_size=(64, 64))\n",
    "\n",
    "testloader64 = SpecificSizeImageFolder(\"mnist-varres/test\", transform=transforms, target_size=(64, 64))\n",
    "testloader48 = SpecificSizeImageFolder(\"mnist-varres/test\", transform=transforms, target_size=(48, 48))\n",
    "testloader32 = SpecificSizeImageFolder(\"mnist-varres/test\", transform=transforms, target_size=(32, 32))"
   ]
  },
  {
   "cell_type": "code",
   "execution_count": 13,
   "metadata": {},
   "outputs": [],
   "source": [
    "import glob"
   ]
  },
  {
   "cell_type": "code",
   "execution_count": 14,
   "metadata": {},
   "outputs": [],
   "source": [
    "from PIL import Image"
   ]
  },
  {
   "cell_type": "code",
   "execution_count": 15,
   "metadata": {},
   "outputs": [],
   "source": [
    "import sklearn"
   ]
  },
  {
   "cell_type": "code",
   "execution_count": 16,
   "metadata": {},
   "outputs": [],
   "source": [
    "def load_crap(folder):\n",
    "    crap = [\n",
    "        [] for _ in range(3)\n",
    "    ]\n",
    "    labels = [\n",
    "        [] for _ in range(3)\n",
    "    ]\n",
    "    \n",
    "    for label in tqdm.tqdm(glob.glob(f\"{folder}/*\")):\n",
    "        for img_path in glob.glob(f\"{label}/*\"):\n",
    "            img = transforms(Image.open(img_path))\n",
    "            if img.shape[-1] == 32:\n",
    "                crap[0].append(img)\n",
    "                labels[0].append(int(label[-1]))\n",
    "            elif img.shape[-1] == 48:\n",
    "                crap[1].append(img)\n",
    "                labels[1].append(int(label[-1]))\n",
    "            elif img.shape[-1] == 64:\n",
    "                crap[2].append(img)\n",
    "                labels[2].append(int(label[-1]))\n",
    "                \n",
    "    # shuffle each list\n",
    "    for i in range(3):\n",
    "        crap[i] = torch.stack(crap[i])\n",
    "        labels[i] = torch.tensor(labels[i])\n",
    "        crap[i], labels[i] = sklearn.utils.shuffle(crap[i], labels[i])\n",
    "    \n",
    "    return crap, labels"
   ]
  },
  {
   "cell_type": "code",
   "execution_count": 17,
   "metadata": {},
   "outputs": [
    {
     "name": "stderr",
     "output_type": "stream",
     "text": [
      "100%|██████████| 10/10 [00:28<00:00,  2.86s/it]\n",
      "100%|██████████| 10/10 [00:04<00:00,  2.09it/s]\n"
     ]
    }
   ],
   "source": [
    "train = load_crap(\"mnist-varres/train\")\n",
    "test = load_crap(\"mnist-varres/test\")"
   ]
  },
  {
   "cell_type": "code",
   "execution_count": 18,
   "metadata": {},
   "outputs": [
    {
     "data": {
      "text/plain": [
       "([3, 3], [3, 3])"
      ]
     },
     "execution_count": 18,
     "metadata": {},
     "output_type": "execute_result"
    }
   ],
   "source": [
    "[ len(tt) for tt in train ], [ len(tt) for tt in test ]"
   ]
  },
  {
   "cell_type": "code",
   "execution_count": 311,
   "metadata": {},
   "outputs": [
    {
     "data": {
      "text/plain": [
       "(array([904.,  17.,   9.,   9.,  13.,   4.,   9.,   4.,   6.,  49.]),\n",
       " array([0.        , 0.1       , 0.2       , 0.30000001, 0.40000001,\n",
       "        0.5       , 0.60000002, 0.69999999, 0.80000001, 0.89999998,\n",
       "        1.        ]),\n",
       " <BarContainer object of 10 artists>)"
      ]
     },
     "execution_count": 311,
     "metadata": {},
     "output_type": "execute_result"
    },
    {
     "data": {
      "image/png": "[encoded data removed]",
      "text/plain": [
       "<Figure size 640x480 with 1 Axes>"
      ]
     },
     "metadata": {},
     "output_type": "display_data"
    }
   ],
   "source": [
    "plt.hist(train[0][0].ravel())"
   ]
  },
  {
   "cell_type": "code",
   "execution_count": 255,
   "metadata": {},
   "outputs": [
    {
     "data": {
      "image/png": "[encoded data removed]",
      "text/plain": [
       "<Figure size 400x400 with 4 Axes>"
      ]
     },
     "metadata": {},
     "output_type": "display_data"
    }
   ],
   "source": [
    "# visualize 4 images\n",
    "plt.figure(figsize=(4, 4))\n",
    "for i in range(4):\n",
    "    plt.subplot(2, 2, i+1)\n",
    "    plt.imshow(train_data[i][0][0], cmap=\"gray\")\n",
    "    plt.title(f\"{train_data[i][1]}, {train_data[i][0].numpy().shape}\")\n",
    "    plt.axis(\"off\")"
   ]
  },
  {
   "cell_type": "code",
   "execution_count": 353,
   "metadata": {},
   "outputs": [
    {
     "data": {
      "text/plain": [
       "torch.Size([20007])"
      ]
     },
     "execution_count": 353,
     "metadata": {},
     "output_type": "execute_result"
    }
   ],
   "source": [
    "train[1][2].shape"
   ]
  },
  {
   "cell_type": "code",
   "execution_count": 141,
   "metadata": {},
   "outputs": [],
   "source": [
    "class MultiModel(nn.Module):\n",
    "    # inspired by https://stackoverflow.com/questions/74726927/adjustment-of-cnn-architecture-when-size-of-input-image-is-changed\n",
    "    def __init__(self, N=64):\n",
    "        super().__init__()\n",
    "        self.conv1 = nn.Conv2d(in_channels=1, out_channels=16, kernel_size=(3,3), padding=1)\n",
    "        self.pool1 = nn.MaxPool2d(2, 2)\n",
    "        self.conv2 = nn.Conv2d(16, 32, kernel_size=(3,3), padding=1)\n",
    "        self.pool2 = nn.MaxPool2d(2, 2)\n",
    "        self.conv3 = nn.Conv2d(32, N, kernel_size=(3,3), padding=1)\n",
    "        self.pool3 = nn.MaxPool2d(2, 2)\n",
    "        # self.adaptivepool = nn.AdaptiveMaxPool2d((1,1))\n",
    "        self.adaptivepool = nn.AdaptiveAvgPool2d((1,1))\n",
    "        self.fc1 = nn.Linear(N, 10)\n",
    "        \n",
    "    def forward(self, x):\n",
    "        x = self.pool1(F.relu(self.conv1(x)))\n",
    "        x = self.pool2(F.relu(self.conv2(x)))\n",
    "        x = self.pool3(F.relu(self.conv3(x)))\n",
    "        # x = F.relu(self.conv3(x))\n",
    "        # x = F.adaptive_max_pool2d(x, (64 * 3 * 3))\n",
    "        x = self.adaptivepool(x)\n",
    "        x = torch.flatten(x, 1)\n",
    "        x = self.fc1(x)\n",
    "        return x"
   ]
  },
  {
   "cell_type": "code",
   "execution_count": 142,
   "metadata": {},
   "outputs": [],
   "source": [
    "# multi_model = MultiModel(N=82)\n",
    "multi_model = MultiModel()\n",
    "multi_model.to(device)\n",
    "criterion = nn.CrossEntropyLoss()\n",
    "optimizer = torch.optim.Adam(multi_model.parameters(), lr=0.001)"
   ]
  },
  {
   "cell_type": "code",
   "execution_count": 143,
   "metadata": {},
   "outputs": [
    {
     "name": "stderr",
     "output_type": "stream",
     "text": [
      "loss: 0.5203: 100%|██████████| 1046/1046 [00:03<00:00, 298.99it/s]\n",
      "loss: 0.5733: 100%|██████████| 1055/1055 [00:03<00:00, 305.90it/s]\n",
      "loss: 0.6790: 100%|██████████| 1051/1051 [00:03<00:00, 293.11it/s]\n",
      "loss: 0.0649: 100%|██████████| 1046/1046 [00:02<00:00, 353.78it/s]\n",
      "loss: 0.6465: 100%|██████████| 1055/1055 [00:02<00:00, 355.91it/s]\n",
      "loss: 0.5456: 100%|██████████| 1051/1051 [00:03<00:00, 267.45it/s]\n",
      "loss: 0.0080: 100%|██████████| 1046/1046 [00:03<00:00, 344.86it/s]\n",
      "loss: 0.6105: 100%|██████████| 1055/1055 [00:03<00:00, 315.15it/s]\n",
      "loss: 0.4529: 100%|██████████| 1051/1051 [00:03<00:00, 277.43it/s]\n",
      "loss: 0.0058: 100%|██████████| 1046/1046 [00:03<00:00, 284.68it/s]\n",
      "loss: 0.5805: 100%|██████████| 1055/1055 [00:03<00:00, 304.37it/s]\n",
      "loss: 0.3890: 100%|██████████| 1051/1051 [00:03<00:00, 270.70it/s]\n",
      "loss: 0.0068: 100%|██████████| 1046/1046 [00:03<00:00, 290.22it/s]\n",
      "loss: 0.5181: 100%|██████████| 1055/1055 [00:03<00:00, 312.83it/s]\n",
      "loss: 0.3567: 100%|██████████| 1051/1051 [00:03<00:00, 274.65it/s]\n",
      "loss: 0.0104: 100%|██████████| 1046/1046 [00:02<00:00, 367.78it/s]\n",
      "loss: 0.4456: 100%|██████████| 1055/1055 [00:03<00:00, 331.86it/s]\n",
      "loss: 0.3536: 100%|██████████| 1051/1051 [00:03<00:00, 270.63it/s]\n",
      "100%|██████████| 6/6 [01:07<00:00, 11.22s/it]\n"
     ]
    }
   ],
   "source": [
    "history = {\n",
    "    \"train_loss\": [],\n",
    "    \"val_loss\": [],\n",
    "    \"train_acc\": [],\n",
    "    \"val_acc\": []\n",
    "}\n",
    "for epoch in tqdm.tqdm(range(6), leave=True):\n",
    "    avg_loss = 0\n",
    "    for train_size in range(3):\n",
    "        pbar = tqdm.tqdm(range(0, int(len(train[0][train_size]) * (1-.16)), batch_size), position=0)\n",
    "        for bn in pbar:\n",
    "            data = train[0][train_size][bn:bn+batch_size].to(device)\n",
    "            labels = train[1][train_size][bn:bn+batch_size].to(device)\n",
    "            \n",
    "            optimizer.zero_grad()\n",
    "            \n",
    "            outputs = multi_model(data)\n",
    "            \n",
    "            # print(outputs, labels)\n",
    "            \n",
    "            loss = criterion(outputs, labels)\n",
    "            \n",
    "            if bn % 300 == 0:\n",
    "                pbar.set_description(f\"loss: {loss.item():.4f}\")\n",
    "            \n",
    "            loss.backward()\n",
    "            \n",
    "            optimizer.step()\n",
    "            \n",
    "            avg_loss += loss.item()\n",
    "            \n",
    "    history[\"train_loss\"].append(avg_loss / (60_000 * (1 - .16)//batch_size ) )\n",
    "    \n",
    "    with torch.no_grad():\n",
    "        avg_loss = 0\n",
    "        correct = 0\n",
    "        for val_size in range(3):\n",
    "            for bn in range(int(len(train[0][val_size]) * (1-.16)), len(train[0][val_size]), batch_size):\n",
    "                data = train[0][val_size][bn:bn+batch_size].to(device)\n",
    "                labels = train[1][val_size][bn:bn+batch_size].to(device)\n",
    "                \n",
    "                outputs = multi_model(data)\n",
    "                \n",
    "                loss = criterion(outputs, labels)\n",
    "                \n",
    "                avg_loss += loss.item()\n",
    "                \n",
    "                correct += (torch.argmax(outputs, dim=1) == labels).sum().item()\n",
    "            \n",
    "        history[\"val_acc\"].append(correct / (60_000 * (.16)))\n",
    "        history[\"val_loss\"].append(avg_loss / (60_000 * (.16)))"
   ]
  },
  {
   "cell_type": "code",
   "execution_count": 144,
   "metadata": {},
   "outputs": [
    {
     "name": "stdout",
     "output_type": "stream",
     "text": [
      "Train accuracy: 0.9816269841269841\n"
     ]
    }
   ],
   "source": [
    "# get train accuracy\n",
    "with torch.no_grad():\n",
    "    correct = 0\n",
    "    for train_size in range(3):\n",
    "        for bn in range(0, int(len(train[0][train_size])//batch_size * (1-.16)),):\n",
    "            data = train[0][train_size][bn:bn+batch_size].to(device)\n",
    "            labels = train[1][train_size][bn:bn+batch_size].to(device)\n",
    "\n",
    "            outputs = multi_model(data)\n",
    "\n",
    "            correct += (torch.argmax(outputs, dim=1) == labels).sum().item()\n",
    "            \n",
    "print(f\"Train accuracy: {correct / (60_000 * (1 - .16))}\")"
   ]
  },
  {
   "cell_type": "code",
   "execution_count": 145,
   "metadata": {},
   "outputs": [
    {
     "name": "stdout",
     "output_type": "stream",
     "text": [
      "Val accuracy: 0.9735416666666666\n"
     ]
    }
   ],
   "source": [
    "# get val accuracy\n",
    "with torch.no_grad():\n",
    "    correct = 0\n",
    "    for val_size in range(3):\n",
    "        for bn in range(int(len(train[0][val_size]) * (1-.16)), len(train[0][val_size]), batch_size):\n",
    "            data = train[0][val_size][bn:bn+batch_size].to(device)\n",
    "            labels = train[1][val_size][bn:bn+batch_size].to(device)\n",
    "\n",
    "            outputs = multi_model(data)\n",
    "\n",
    "            correct += (torch.argmax(outputs, dim=1) == labels).sum().item()\n",
    "print(f\"Val accuracy: {correct / (60_000 * (.16))}\")"
   ]
  },
  {
   "cell_type": "code",
   "execution_count": 148,
   "metadata": {},
   "outputs": [
    {
     "name": "stdout",
     "output_type": "stream",
     "text": [
      "Test accuracy: 0.9758\n"
     ]
    }
   ],
   "source": [
    "# eval on test\n",
    "with torch.no_grad():\n",
    "    correct = 0\n",
    "    for test_size in range(3):\n",
    "        for bn in range(0, len(test[0][test_size]), batch_size):\n",
    "            data = test[0][test_size][bn:bn+batch_size].to(device)\n",
    "            labels = test[1][test_size][bn:bn+batch_size].to(device)\n",
    "\n",
    "            outputs = multi_model(data)\n",
    "\n",
    "            correct += (torch.argmax(outputs, dim=1) == labels).sum().item()\n",
    "print(f\"Test accuracy: {correct / (10_000)}\")"
   ]
  },
  {
   "cell_type": "code",
   "execution_count": 147,
   "metadata": {},
   "outputs": [
    {
     "data": {
      "text/plain": [
       "Text(0.5, 0, 'Epoch')"
      ]
     },
     "execution_count": 147,
     "metadata": {},
     "output_type": "execute_result"
    },
    {
     "data": {
      "image/png": "[encoded data removed]",
      "text/plain": [
       "<Figure size 1200x600 with 2 Axes>"
      ]
     },
     "metadata": {},
     "output_type": "display_data"
    }
   ],
   "source": [
    "# plot\n",
    "plt.figure(figsize=(12, 6))\n",
    "plt.subplot(1, 2, 1)\n",
    "plt.plot(range(1, len(history[\"train_loss\"])+1), history[\"train_loss\"], label=\"train loss\")\n",
    "plt.plot(range(1, len(history[\"train_loss\"])+1), history[\"val_loss\"], label=\"val loss\")\n",
    "plt.title(\"Loss\")\n",
    "plt.xlabel(\"Epoch\")\n",
    "plt.legend(loc=\"upper right\")\n",
    "plt.subplot(1, 2, 2)\n",
    "# plt.plot(range(1, len(history)+1), history[\"train_acc\"], label=\"train acc\")\n",
    "plt.plot(range(1, len(history[\"train_loss\"])+1), history[\"val_acc\"], label=\"val acc\")\n",
    "plt.legend()\n",
    "plt.xlabel(\"Epoch\")"
   ]
  },
  {
   "cell_type": "markdown",
   "metadata": {},
   "source": [
    "### Q15"
   ]
  },
  {
   "cell_type": "code",
   "execution_count": 106,
   "metadata": {},
   "outputs": [
    {
     "data": {
      "text/plain": [
       "<generator object Module.parameters at 0x7f4ed040d900>"
      ]
     },
     "execution_count": 106,
     "metadata": {},
     "output_type": "execute_result"
    }
   ],
   "source": [
    "model.parameters()"
   ]
  },
  {
   "cell_type": "code",
   "execution_count": 109,
   "metadata": {},
   "outputs": [],
   "source": [
    "model =Model()\n",
    "# get number of trainable parameters\n",
    "params1 = sum(p.numel() for p in model.parameters())# if p.requires_grad)\n",
    "params2 = sum(p.numel() for p in multi_model.parameters())# if p.requires_grad)"
   ]
  },
  {
   "cell_type": "code",
   "execution_count": 133,
   "metadata": {},
   "outputs": [
    {
     "data": {
      "text/plain": [
       "Text(0, 0.5, 'Number of Parameters')"
      ]
     },
     "execution_count": 133,
     "metadata": {},
     "output_type": "execute_result"
    },
    {
     "data": {
      "image/png": "[encoded data removed]",
      "text/plain": [
       "<Figure size 640x480 with 1 Axes>"
      ]
     },
     "metadata": {},
     "output_type": "display_data"
    }
   ],
   "source": [
    "#plot horizontal line for number of parameters dashed line\n",
    "rr = [10, 120, 1]\n",
    "plt.hlines(params1, rr[0], rr[1], label=\"Model\", linestyles=\"dashed\", colors=\"black\")\n",
    "rng = range(*rr)\n",
    "params2 =[sum(p.numel() for p in MultiModel(N).parameters()) for N in rng]\n",
    "for i in range(len(params2)):\n",
    "    if params2[i] > params1:\n",
    "        plt.vlines(rng[i], params2[0], params2[-1], linestyles=\"dashed\", colors=\"red\")\n",
    "        plt.text(rng[i]+2, params2[i], f\"({rng[i]}, {params2[i]})\", color=\"red\")\n",
    "        break\n",
    "    \n",
    "plt.plot(rng, params2, label=\"MultiSizeModel\", c=\"black\")\n",
    "plt.xlabel(\"N\")\n",
    "plt.legend()\n",
    "plt.ylabel(\"Number of Parameters\")"
   ]
  },
  {
   "cell_type": "code",
   "execution_count": 163,
   "metadata": {},
   "outputs": [],
   "source": [
    "co = nn.Conv2d(3, 16, 5, padding=1, stride=2)"
   ]
  },
  {
   "cell_type": "code",
   "execution_count": 166,
   "metadata": {},
   "outputs": [],
   "source": [
    "inp = torch.randn(1, 3, 1024, 768)\n",
    "inp = torch.randn(1, 3, 1920, 1080)"
   ]
  },
  {
   "cell_type": "code",
   "execution_count": 167,
   "metadata": {},
   "outputs": [
    {
     "data": {
      "text/plain": [
       "torch.Size([1, 16, 959, 539])"
      ]
     },
     "execution_count": 167,
     "metadata": {},
     "output_type": "execute_result"
    }
   ],
   "source": [
    "co(inp).shape"
   ]
  },
  {
   "cell_type": "code",
   "execution_count": null,
   "metadata": {},
   "outputs": [],
   "source": []
  }
 ],
 "metadata": {
  "kernelspec": {
   "display_name": "vudl",
   "language": "python",
   "name": "python3"
  },
  "language_info": {
   "codemirror_mode": {
    "name": "ipython",
    "version": 3
   },
   "file_extension": ".py",
   "mimetype": "text/x-python",
   "name": "python",
   "nbconvert_exporter": "python",
   "pygments_lexer": "ipython3",
   "version": "3.9.18"
  }
 },
 "nbformat": 4,
 "nbformat_minor": 2
}
